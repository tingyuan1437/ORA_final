{
 "cells": [
  {
   "cell_type": "code",
   "execution_count": 1,
   "id": "143605af",
   "metadata": {},
   "outputs": [],
   "source": [
    "import os\n",
    "import re\n",
    "import pickle\n",
    "import zipfile\n",
    "import tarfile\n",
    "import collections\n",
    "import numpy as np\n",
    "from tqdm import tqdm\n",
    "from opencc import OpenCC"
   ]
  },
  {
   "cell_type": "code",
   "execution_count": 2,
   "id": "c536150a",
   "metadata": {},
   "outputs": [],
   "source": [
    "import torch\n",
    "import torch.nn as nn\n",
    "import torch.nn.functional as Func\n",
    "import torch.optim as optim\n",
    "from torch.utils.data.dataset import Dataset\n",
    "from torch.nn.utils.rnn import pad_sequence\n",
    "from torch.autograd import Variable"
   ]
  },
  {
   "cell_type": "code",
   "execution_count": 3,
   "id": "ddcc1217",
   "metadata": {
    "code_folding": []
   },
   "outputs": [],
   "source": [
    "file_path = './data/couplet.tar.gz'\n",
    "tar = tarfile.open(file_path, 'r:gz')\n",
    "tar.extractall('./data/')\n",
    "\n",
    "with zipfile.ZipFile('./data/CWE02.zip', 'r') as zip_ref:\n",
    "    zip_ref.extractall('./data/')\n",
    "\n",
    "train_in, train_out, test_in, test_out = [], [], [], []\n",
    "with open('./data/couplet/train/in.txt') as f:\n",
    "    for line in f.readlines():\n",
    "        train_in.append(line)\n",
    "\n",
    "with open('./data/couplet/train/out.txt') as f:\n",
    "    for line in f.readlines():\n",
    "        train_out.append(line)\n",
    "\n",
    "with open('./data/couplet/test/in.txt') as f:\n",
    "    for line in f.readlines():\n",
    "        test_in.append(line)\n",
    "        \n",
    "with open('./data/couplet/test/out.txt') as f:\n",
    "    for line in f.readlines():\n",
    "        test_out.append(line)\n",
    "\n",
    "cc = OpenCC('s2tw')\n",
    "train_in = [''.join(i.split(' ')) for i in train_in]\n",
    "train_out = [''.join(i.split(' ')) for i in train_out]\n",
    "train_in = [cc.convert(i) for i in train_in]\n",
    "train_out = [cc.convert(i) for i in train_out]\n",
    "\n",
    "test_in = [''.join(i.split(' ')) for i in test_in]\n",
    "test_out = [''.join(i.split(' ')) for i in test_out]\n",
    "test_in = [cc.convert(i) for i in test_in]\n",
    "test_out = [cc.convert(i) for i in test_out]\n",
    "\n",
    "train_in_7words = []\n",
    "train_out_7words = []\n",
    "test_in_7words = []\n",
    "test_out_7words = []\n",
    "pattern = re.compile('^[\\u4e00-\\u9fa5_a-zA-Z0-9]+$')\n",
    "for i in range(len(train_in)):\n",
    "    \n",
    "    x = ''.join(train_in[i].split(' '))\n",
    "    y = ''.join(train_out[i].split(' '))\n",
    "    x = re.search(pattern, x)\n",
    "    y = re.search(pattern, y)\n",
    "    try:\n",
    "        x = x.group(0)\n",
    "        y = y.group(0)\n",
    "        train_in_7words.append(x)\n",
    "        train_out_7words.append(y)\n",
    "    except:\n",
    "        pass\n",
    "\n",
    "for i in range(len(test_in)):\n",
    "    \n",
    "    x = ''.join(test_in[i].split(' '))\n",
    "    y = ''.join(test_out[i].split(' '))\n",
    "    x = re.search(pattern, x)\n",
    "    y = re.search(pattern, y)\n",
    "    try:\n",
    "        x = x.group(0)\n",
    "        y = y.group(0)\n",
    "        test_in_7words.append(x)\n",
    "        test_out_7words.append(y)\n",
    "    except:\n",
    "        pass\n",
    "\n",
    "train_in_7words = [i for i in train_in_7words if len(i) == 7]\n",
    "train_out_7words = [i for i in train_out_7words if len(i) == 7]\n",
    "test_in_7words = [i for i in test_in_7words if len(i) == 7]\n",
    "test_out_7words = [i for i in test_out_7words if len(i) == 7]\n",
    "    \n",
    "with open('./data/train_in_7words', 'wb+') as f:\n",
    "    pickle.dump(train_in_7words, f)\n",
    "\n",
    "with open('./data/train_out_7words', 'wb+') as f:\n",
    "    pickle.dump(train_out_7words, f)\n",
    "\n",
    "with open('./data/test_in_7words', 'wb+') as f:\n",
    "    pickle.dump(test_in_7words, f)\n",
    "\n",
    "with open('./data/test_out_7words', 'wb+') as f:\n",
    "    pickle.dump(test_out_7words, f)"
   ]
  },
  {
   "cell_type": "code",
   "execution_count": 4,
   "id": "1bb31954",
   "metadata": {
    "code_folding": []
   },
   "outputs": [],
   "source": [
    "with open('./data/train_in_7words', 'rb') as f:\n",
    "    train_in_7words = pickle.load(f)\n",
    "\n",
    "with open('./data/train_out_7words', 'rb') as f:\n",
    "    train_out_7words = pickle.load(f)\n",
    "    \n",
    "with open('./data/test_in_7words', 'rb') as f:\n",
    "    test_in_7words = pickle.load(f)\n",
    "\n",
    "with open('./data/test_out_7words', 'rb') as f:\n",
    "    test_out_7words = pickle.load(f)"
   ]
  },
  {
   "cell_type": "code",
   "execution_count": 61,
   "id": "26afabb0",
   "metadata": {
    "code_folding": []
   },
   "outputs": [],
   "source": [
    "class words_dict():\n",
    "    def __init__(self):\n",
    "        self.word_count = collections.defaultdict(int)\n",
    "        self.id_to_word = {0: '_sos_', 1: '_eos_', 2: '_unk_'}\n",
    "        self.word_to_id = {'_sos_': 0, '_eos_': 1, '_unk_': 2}\n",
    "        self.n_words = 3\n",
    "        self.remain_id = []\n",
    "        self.max_len = 9\n",
    "        \n",
    "    def add_word(self, tokens):\n",
    "        for token in tokens:\n",
    "            if self.word_to_id.get(token):\n",
    "                self.word_count[token] += 1\n",
    "            else:\n",
    "                self.word_to_id[token] = self.n_words\n",
    "                self.id_to_word[self.n_words] = token\n",
    "                self.n_words += 1\n",
    "                self.word_count[token] = 1\n",
    "\n",
    "    def predict(self, tokens):\n",
    "        t_sen = [0] + (self.max_len - 1) * [1]\n",
    "        for idx, token in enumerate(tokens):\n",
    "            if idx+1 == self.max_len - 1:\n",
    "                t_sen = t_sen[:-1] +  [1]\n",
    "                break\n",
    "            if not self.word_to_id.get(token) :\n",
    "                t_sen[idx+1] = 2\n",
    "            else:\n",
    "                t_sen[idx+1] = self.word_to_id[token]\n",
    "        return t_sen\n",
    "    \n",
    "    def sort_dict(self):\n",
    "        sort_d = sorted(self.word_count.items(), key = lambda x: x[1])[:int(self.n_words *0.8)]\n",
    "        for (word, j) in sort_d:\n",
    "            id = self.word_to_id[word]\n",
    "            del self.word_to_id[word]\n",
    "            del self.id_to_word[id]\n",
    "        words = self.word_to_id.keys()\n",
    "        print(f'Word count after reduce: {len(words)}')\n",
    "        word_count = 0\n",
    "        for w in words:\n",
    "            self.id_to_word[word_count] = w\n",
    "            self.word_to_id[w] = word_count \n",
    "            word_count += 1\n",
    "        self.n_words = word_count\n",
    "        return"
   ]
  },
  {
   "cell_type": "code",
   "execution_count": 62,
   "id": "67e90ba2",
   "metadata": {
    "code_folding": []
   },
   "outputs": [],
   "source": [
    "def transform(data):\n",
    "    t_in = []\n",
    "    for sent in data:\n",
    "        t_in.append(dictionary.predict(sent))\n",
    "    t_in = torch.tensor(t_in)\n",
    "    return t_in"
   ]
  },
  {
   "cell_type": "code",
   "execution_count": 64,
   "id": "bc0c16b7",
   "metadata": {},
   "outputs": [
    {
     "name": "stdout",
     "output_type": "stream",
     "text": [
      "Total 7285 words\n",
      "Word count after reduce: 1457\n"
     ]
    }
   ],
   "source": [
    "dictionary = words_dict()\n",
    "\n",
    "for sent in (train_in_7words+train_out_7words+test_in_7words+test_out_7words):\n",
    "    for c in sent:\n",
    "        dictionary.add_word(c)\n",
    "\n",
    "print(f'Total {len(dictionary.word_to_id)} words')\n",
    "\n",
    "dictionary.sort_dict()\n",
    "with open('data/train_dict_cut.pkl', 'wb') as f:\n",
    "    pickle.dump(dictionary, f, pickle.HIGHEST_PROTOCOL)\n",
    "\n",
    "train_in_7words_id = transform(train_in_7words)\n",
    "train_out_7words_id = transform(train_out_7words)\n",
    "test_in_7words_id = transform(test_in_7words)\n",
    "test_out_7words_id = transform(test_out_7words)\n",
    "\n",
    "torch.save(train_in_7words_id, './data/train_in_7words_id.trc')\n",
    "torch.save(train_out_7words_id, './data/train_out_7words_id.trc')\n",
    "torch.save(test_in_7words_id, './data/test_in_7words_id.trc')\n",
    "torch.save(test_out_7words_id, './data/test_out_7words_id.trc')"
   ]
  },
  {
   "cell_type": "code",
   "execution_count": 66,
   "id": "2af2d1e9",
   "metadata": {},
   "outputs": [
    {
     "data": {
      "text/plain": [
       "'避'"
      ]
     },
     "execution_count": 66,
     "metadata": {},
     "output_type": "execute_result"
    }
   ],
   "source": [
    "dictionary.id_to_word[1235]"
   ]
  },
  {
   "cell_type": "code",
   "execution_count": 9,
   "id": "0d6a52ed",
   "metadata": {},
   "outputs": [],
   "source": [
    "embeddings_dict = {}\n",
    "with open(\"./data/Glove_CNA_ASBC_300d.vec\", 'r') as f:\n",
    "    for line in f:\n",
    "        values = line.split()\n",
    "        word = values[0]\n",
    "        vector = np.asarray(values[1:], \"float32\")\n",
    "        embeddings_dict[word] = vector\n",
    "\n",
    "embeddings_dict['_sos_'] =  np.random.rand(300, )\n",
    "embeddings_dict['_eos_'] =  np.random.rand(300, )\n",
    "embeddings_dict['_unk_'] =  np.random.rand(300, )\n",
    "\n",
    "with open('./data/emb_glove_300.pkl', 'wb+') as f:\n",
    "    pickle.dump(embeddings_dict, f)"
   ]
  },
  {
   "cell_type": "code",
   "execution_count": 67,
   "id": "87a229e4",
   "metadata": {},
   "outputs": [],
   "source": [
    "mapping_dict = {}\n",
    "for key, val in dictionary.id_to_word.items():\n",
    "    mapping_dict[key] = embeddings_dict.get(val, embeddings_dict['_unk_'])"
   ]
  },
  {
   "cell_type": "code",
   "execution_count": 68,
   "id": "f40b51a3",
   "metadata": {},
   "outputs": [],
   "source": [
    "with open('data/glove_id_to_emb.pkl', 'wb') as f:\n",
    "    pickle.dump(mapping_dict, f, pickle.HIGHEST_PROTOCOL)"
   ]
  }
 ],
 "metadata": {
  "kernelspec": {
   "display_name": "tingyuan",
   "language": "python",
   "name": "tingyuan"
  },
  "language_info": {
   "codemirror_mode": {
    "name": "ipython",
    "version": 3
   },
   "file_extension": ".py",
   "mimetype": "text/x-python",
   "name": "python",
   "nbconvert_exporter": "python",
   "pygments_lexer": "ipython3",
   "version": "3.7.7"
  },
  "toc": {
   "base_numbering": 1,
   "nav_menu": {},
   "number_sections": true,
   "sideBar": true,
   "skip_h1_title": false,
   "title_cell": "Table of Contents",
   "title_sidebar": "Contents",
   "toc_cell": false,
   "toc_position": {},
   "toc_section_display": true,
   "toc_window_display": false
  }
 },
 "nbformat": 4,
 "nbformat_minor": 5
}
